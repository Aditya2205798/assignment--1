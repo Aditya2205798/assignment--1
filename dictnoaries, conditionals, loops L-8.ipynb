{
 "cells": [
  {
   "cell_type": "code",
   "execution_count": 2,
   "id": "59ae7e91-5823-49ab-9249-88141fb433e6",
   "metadata": {},
   "outputs": [],
   "source": [
    "d = {}"
   ]
  },
  {
   "cell_type": "code",
   "execution_count": 3,
   "id": "6742149b-3909-4b2e-9f19-2ce2b8ed6a51",
   "metadata": {},
   "outputs": [
    {
     "data": {
      "text/plain": [
       "dict"
      ]
     },
     "execution_count": 3,
     "metadata": {},
     "output_type": "execute_result"
    }
   ],
   "source": [
    "type(d)"
   ]
  },
  {
   "cell_type": "code",
   "execution_count": 4,
   "id": "eeeb6c81-3326-4048-a4fa-ebd592fd970c",
   "metadata": {},
   "outputs": [],
   "source": [
    "d1 = {'key' : \"aditya\"}"
   ]
  },
  {
   "cell_type": "code",
   "execution_count": 5,
   "id": "d7e1fefc-6490-4a98-8c61-5ff64beeedb3",
   "metadata": {},
   "outputs": [
    {
     "data": {
      "text/plain": [
       "{'key': 'aditya'}"
      ]
     },
     "execution_count": 5,
     "metadata": {},
     "output_type": "execute_result"
    }
   ],
   "source": [
    "d1"
   ]
  },
  {
   "cell_type": "code",
   "execution_count": 8,
   "id": "c289d7cf-e5f6-45d7-bf7c-c7dfe29316e4",
   "metadata": {},
   "outputs": [],
   "source": [
    "d3 = {'234' : 'aditya'}"
   ]
  },
  {
   "cell_type": "code",
   "execution_count": 9,
   "id": "432c21f3-c19c-48f7-885c-0f1ef9b09810",
   "metadata": {},
   "outputs": [
    {
     "data": {
      "text/plain": [
       "{'234': 'aditya'}"
      ]
     },
     "execution_count": 9,
     "metadata": {},
     "output_type": "execute_result"
    }
   ],
   "source": [
    "d3"
   ]
  },
  {
   "cell_type": "code",
   "execution_count": 11,
   "id": "aed3892e-d867-4347-ac6e-63e8847b54f7",
   "metadata": {},
   "outputs": [],
   "source": [
    "d4 = {'234' : 'aditya' , '@wgr' : 'kumar' }\n",
    "     "
   ]
  },
  {
   "cell_type": "code",
   "execution_count": 12,
   "id": "a2272ffd-4a1d-4530-95e7-65ea7001647f",
   "metadata": {},
   "outputs": [
    {
     "data": {
      "text/plain": [
       "{'234': 'aditya', '@wgr': 'kumar'}"
      ]
     },
     "execution_count": 12,
     "metadata": {},
     "output_type": "execute_result"
    }
   ],
   "source": [
    "d4"
   ]
  },
  {
   "cell_type": "code",
   "execution_count": 6,
   "id": "b7ffcae5-81a4-4a9a-a7ec-2225c9987a7d",
   "metadata": {},
   "outputs": [],
   "source": [
    "d2 = {'name': 'sudh' , 'email' : ' raushansinghrajput1238@gmail.com ' , 'number' : '45678'}"
   ]
  },
  {
   "cell_type": "code",
   "execution_count": 7,
   "id": "58a73144-2467-4aca-8fff-7f6156a96030",
   "metadata": {},
   "outputs": [
    {
     "data": {
      "text/plain": [
       "{'name': 'sudh',\n",
       " 'email': ' raushansinghrajput1238@gmail.com ',\n",
       " 'number': '45678'}"
      ]
     },
     "execution_count": 7,
     "metadata": {},
     "output_type": "execute_result"
    }
   ],
   "source": [
    "d2"
   ]
  },
  {
   "cell_type": "code",
   "execution_count": 17,
   "id": "d5498a86-e012-48f3-ad48-7509aca3b51b",
   "metadata": {},
   "outputs": [],
   "source": [
    "d5 = {'234' : 'aditya' , '_wgr' : 'kumar'}"
   ]
  },
  {
   "cell_type": "code",
   "execution_count": 18,
   "id": "a4b9b891-e7b0-40cf-8f65-74583fa65b08",
   "metadata": {},
   "outputs": [
    {
     "data": {
      "text/plain": [
       "{'234': 'aditya', '_wgr': 'kumar'}"
      ]
     },
     "execution_count": 18,
     "metadata": {},
     "output_type": "execute_result"
    }
   ],
   "source": [
    "d5"
   ]
  },
  {
   "cell_type": "code",
   "execution_count": 29,
   "id": "62e92762-a75a-4c08-bfe1-3e161e79a45e",
   "metadata": {},
   "outputs": [],
   "source": [
    "d5 = {'234' : 'aditya' , '_wgr' : 'kumar' , True : 23234}"
   ]
  },
  {
   "cell_type": "code",
   "execution_count": 20,
   "id": "3a50a432-77da-4324-a952-b0a6037366bf",
   "metadata": {},
   "outputs": [
    {
     "data": {
      "text/plain": [
       "{'234': 'aditya', '_wgr': 'kumar', True: 23234}"
      ]
     },
     "execution_count": 20,
     "metadata": {},
     "output_type": "execute_result"
    }
   ],
   "source": [
    "d5"
   ]
  },
  {
   "cell_type": "code",
   "execution_count": 21,
   "id": "eb697572-2d26-4366-9090-8dc4c6de0ccd",
   "metadata": {},
   "outputs": [],
   "source": [
    "d5 = {'234' : 'aditya' , '_wgr' : 'kumar' , 'True' : '23234'}"
   ]
  },
  {
   "cell_type": "code",
   "execution_count": 22,
   "id": "a37d7b62-f69a-44c2-ad12-5a10e45f0e09",
   "metadata": {},
   "outputs": [
    {
     "data": {
      "text/plain": [
       "{'234': 'aditya', '_wgr': 'kumar', 'True': '23234'}"
      ]
     },
     "execution_count": 22,
     "metadata": {},
     "output_type": "execute_result"
    }
   ],
   "source": [
    "d5"
   ]
  },
  {
   "cell_type": "code",
   "execution_count": 24,
   "id": "53374bd5-5b9d-47e3-b798-09a20b4340b7",
   "metadata": {},
   "outputs": [
    {
     "data": {
      "text/plain": [
       "'aditya'"
      ]
     },
     "execution_count": 24,
     "metadata": {},
     "output_type": "execute_result"
    }
   ],
   "source": [
    "d5['234']"
   ]
  },
  {
   "cell_type": "code",
   "execution_count": 26,
   "id": "bdc323ae-780a-47ea-ae0b-20df24469960",
   "metadata": {},
   "outputs": [
    {
     "data": {
      "text/plain": [
       "'23234'"
      ]
     },
     "execution_count": 26,
     "metadata": {},
     "output_type": "execute_result"
    }
   ],
   "source": [
    "d5['True']"
   ]
  },
  {
   "cell_type": "code",
   "execution_count": 30,
   "id": "d1c9d9e9-61c5-448c-9a1f-06fa4c0b3069",
   "metadata": {},
   "outputs": [
    {
     "data": {
      "text/plain": [
       "23234"
      ]
     },
     "execution_count": 30,
     "metadata": {},
     "output_type": "execute_result"
    }
   ],
   "source": [
    "d5[1]"
   ]
  },
  {
   "cell_type": "code",
   "execution_count": 32,
   "id": "cb053465-bbc6-4982-a0e8-23aed565119b",
   "metadata": {},
   "outputs": [],
   "source": [
    "d4 = { 'name': \"adi\" , 'mail_id' : \"ss@gmail.com\" , \"name\": \"aditya\" }"
   ]
  },
  {
   "cell_type": "code",
   "execution_count": 33,
   "id": "5e9add8e-165c-47fe-85f0-5d17553f5390",
   "metadata": {},
   "outputs": [
    {
     "data": {
      "text/plain": [
       "'aditya'"
      ]
     },
     "execution_count": 33,
     "metadata": {},
     "output_type": "execute_result"
    }
   ],
   "source": [
    "d4['name']"
   ]
  },
  {
   "cell_type": "code",
   "execution_count": 35,
   "id": "4198d4cb-11a1-4657-a33e-93a6813ccb8f",
   "metadata": {},
   "outputs": [],
   "source": [
    "d5 = {\"company\" : \"pwskills\" , \"coarse\" : [ \"web depelopment\" , \"data science\" , \"DSA with c++\" ]} "
   ]
  },
  {
   "cell_type": "code",
   "execution_count": 36,
   "id": "0c48555a-773e-4d01-a662-a7d456de172a",
   "metadata": {},
   "outputs": [
    {
     "data": {
      "text/plain": [
       "{'company': 'pwskills',\n",
       " 'coarse': ['web depelopment', 'data science', 'DSA with c++']}"
      ]
     },
     "execution_count": 36,
     "metadata": {},
     "output_type": "execute_result"
    }
   ],
   "source": [
    "d5"
   ]
  },
  {
   "cell_type": "code",
   "execution_count": 37,
   "id": "e87692f2-5ed2-48ef-b98d-97e1f6c7b9b8",
   "metadata": {},
   "outputs": [
    {
     "data": {
      "text/plain": [
       "['web depelopment', 'data science', 'DSA with c++']"
      ]
     },
     "execution_count": 37,
     "metadata": {},
     "output_type": "execute_result"
    }
   ],
   "source": [
    "d5['coarse']"
   ]
  },
  {
   "cell_type": "code",
   "execution_count": 38,
   "id": "fd912ff8-0da7-473c-9e34-87231334a532",
   "metadata": {},
   "outputs": [
    {
     "data": {
      "text/plain": [
       "'DSA with c++'"
      ]
     },
     "execution_count": 38,
     "metadata": {},
     "output_type": "execute_result"
    }
   ],
   "source": [
    "d5['coarse'][2]"
   ]
  },
  {
   "cell_type": "code",
   "execution_count": 47,
   "id": "9e439b02-1719-41d1-bee2-caa6b5ba1846",
   "metadata": {},
   "outputs": [],
   "source": [
    "    d6 = { \"number\" : [2,34,3,34,56] , \"assignment\" : (1,2,3,4,5,6) , \"launch_date\" : {28,12,23} , \"class_time\": {\"web depelopment\" :8 , \"data science\" :9 , \"DSA with c++\" :10 }}"
   ]
  },
  {
   "cell_type": "code",
   "execution_count": 40,
   "id": "ab239195-3d99-49e6-8c51-fd7a018c87bb",
   "metadata": {},
   "outputs": [
    {
     "data": {
      "text/plain": [
       "{'number': [2, 34, 3, 34, 56],\n",
       " 'assignment': (1, 2, 3, 4, 5, 6),\n",
       " 'launch date': {12, 23, 28}}"
      ]
     },
     "execution_count": 40,
     "metadata": {},
     "output_type": "execute_result"
    }
   ],
   "source": [
    "d6"
   ]
  },
  {
   "cell_type": "code",
   "execution_count": 1,
   "id": "20d9cd0e-3179-43fb-a01a-36f2bd29a6b0",
   "metadata": {},
   "outputs": [],
   "source": [
    "d6 = { \"number\" : [2,34,3,34,56] , \"assignment\" : (1,2,3,4,5,6) , \"launch_date\" : {28,12,23} , \"class_time\": {\"web depelopment\" :8 , \"data science\" :9 , \"DSA with c++\" :10 }}"
   ]
  },
  {
   "cell_type": "code",
   "execution_count": 2,
   "id": "e75ff5b1-f9ae-4578-b0b7-80818a3cb8bb",
   "metadata": {},
   "outputs": [
    {
     "data": {
      "text/plain": [
       "{'number': [2, 34, 3, 34, 56],\n",
       " 'assignment': (1, 2, 3, 4, 5, 6),\n",
       " 'launch_date': {12, 23, 28},\n",
       " 'class_time': {'web depelopment': 8, 'data science': 9, 'DSA with c++': 10}}"
      ]
     },
     "execution_count": 2,
     "metadata": {},
     "output_type": "execute_result"
    }
   ],
   "source": [
    "d6"
   ]
  },
  {
   "cell_type": "code",
   "execution_count": 4,
   "id": "0cac6a2f-f4ed-4c48-9480-1d84ae5d230a",
   "metadata": {},
   "outputs": [],
   "source": [
    "d6['mentor'] = [\"raushan\" , \"aditya\", \"aman\",\"hritik\"]"
   ]
  },
  {
   "cell_type": "code",
   "execution_count": 5,
   "id": "2a538f69-a780-457a-be0c-9acd45aea924",
   "metadata": {},
   "outputs": [
    {
     "data": {
      "text/plain": [
       "{'number': [2, 34, 3, 34, 56],\n",
       " 'assignment': (1, 2, 3, 4, 5, 6),\n",
       " 'launch_date': {12, 23, 28},\n",
       " 'class_time': {'web depelopment': 8, 'data science': 9, 'DSA with c++': 10},\n",
       " 'mentor': ['raushan', 'aditya', 'aman', 'hritik']}"
      ]
     },
     "execution_count": 5,
     "metadata": {},
     "output_type": "execute_result"
    }
   ],
   "source": [
    "d6"
   ]
  },
  {
   "cell_type": "code",
   "execution_count": 8,
   "id": "b5f27b0d-3d33-4c9d-909d-5bbcf510ee74",
   "metadata": {},
   "outputs": [],
   "source": [
    "del d6['number']"
   ]
  },
  {
   "cell_type": "code",
   "execution_count": 9,
   "id": "616cfba0-9fe3-4ae5-a9dd-f52667c0b583",
   "metadata": {},
   "outputs": [
    {
     "data": {
      "text/plain": [
       "{'assignment': (1, 2, 3, 4, 5, 6),\n",
       " 'launch_date': {12, 23, 28},\n",
       " 'class_time': {'web depelopment': 8, 'data science': 9, 'DSA with c++': 10},\n",
       " 'mentor': ['raushan', 'aditya', 'aman', 'hritik']}"
      ]
     },
     "execution_count": 9,
     "metadata": {},
     "output_type": "execute_result"
    }
   ],
   "source": [
    "d6"
   ]
  },
  {
   "cell_type": "code",
   "execution_count": 10,
   "id": "dbc7c333-808f-4bdc-a90b-a381c4fdb496",
   "metadata": {},
   "outputs": [
    {
     "data": {
      "text/plain": [
       "dict_keys(['assignment', 'launch_date', 'class_time', 'mentor'])"
      ]
     },
     "execution_count": 10,
     "metadata": {},
     "output_type": "execute_result"
    }
   ],
   "source": [
    "d6.keys()"
   ]
  },
  {
   "cell_type": "code",
   "execution_count": 11,
   "id": "98281afd-d437-45bb-a57b-2c4781fcad19",
   "metadata": {},
   "outputs": [
    {
     "data": {
      "text/plain": [
       "['assignment', 'launch_date', 'class_time', 'mentor']"
      ]
     },
     "execution_count": 11,
     "metadata": {},
     "output_type": "execute_result"
    }
   ],
   "source": [
    "list(d6.keys())"
   ]
  },
  {
   "cell_type": "code",
   "execution_count": 12,
   "id": "a8f9e85f-6e0d-4035-bc34-986e75c87def",
   "metadata": {},
   "outputs": [
    {
     "data": {
      "text/plain": [
       "dict_values([(1, 2, 3, 4, 5, 6), {28, 12, 23}, {'web depelopment': 8, 'data science': 9, 'DSA with c++': 10}, ['raushan', 'aditya', 'aman', 'hritik']])"
      ]
     },
     "execution_count": 12,
     "metadata": {},
     "output_type": "execute_result"
    }
   ],
   "source": [
    "d6.values()"
   ]
  },
  {
   "cell_type": "code",
   "execution_count": 13,
   "id": "f0b7d59b-4324-4292-91f6-e1d2e5def160",
   "metadata": {},
   "outputs": [
    {
     "data": {
      "text/plain": [
       "[(1, 2, 3, 4, 5, 6),\n",
       " {12, 23, 28},\n",
       " {'web depelopment': 8, 'data science': 9, 'DSA with c++': 10},\n",
       " ['raushan', 'aditya', 'aman', 'hritik']]"
      ]
     },
     "execution_count": 13,
     "metadata": {},
     "output_type": "execute_result"
    }
   ],
   "source": [
    "list(d6.values())"
   ]
  },
  {
   "cell_type": "code",
   "execution_count": 14,
   "id": "8050dfcc-339d-4623-ad59-6702882bd792",
   "metadata": {},
   "outputs": [
    {
     "data": {
      "text/plain": [
       "dict_items([('assignment', (1, 2, 3, 4, 5, 6)), ('launch_date', {28, 12, 23}), ('class_time', {'web depelopment': 8, 'data science': 9, 'DSA with c++': 10}), ('mentor', ['raushan', 'aditya', 'aman', 'hritik'])])"
      ]
     },
     "execution_count": 14,
     "metadata": {},
     "output_type": "execute_result"
    }
   ],
   "source": [
    "d6.items()"
   ]
  },
  {
   "cell_type": "code",
   "execution_count": 15,
   "id": "2d996596-dd65-4244-a60f-5f1563b3c157",
   "metadata": {},
   "outputs": [
    {
     "data": {
      "text/plain": [
       "[('assignment', (1, 2, 3, 4, 5, 6)),\n",
       " ('launch_date', {12, 23, 28}),\n",
       " ('class_time', {'web depelopment': 8, 'data science': 9, 'DSA with c++': 10}),\n",
       " ('mentor', ['raushan', 'aditya', 'aman', 'hritik'])]"
      ]
     },
     "execution_count": 15,
     "metadata": {},
     "output_type": "execute_result"
    }
   ],
   "source": [
    "list(d6.items())"
   ]
  },
  {
   "cell_type": "code",
   "execution_count": 16,
   "id": "e34e8033-4c5b-462a-8592-19306c78143b",
   "metadata": {},
   "outputs": [
    {
     "data": {
      "text/plain": [
       "(1, 2, 3, 4, 5, 6)"
      ]
     },
     "execution_count": 16,
     "metadata": {},
     "output_type": "execute_result"
    }
   ],
   "source": [
    "d6.pop('assignment')"
   ]
  },
  {
   "cell_type": "code",
   "execution_count": 17,
   "id": "7799e19e-25dc-46e6-bd5b-45910f2e8852",
   "metadata": {},
   "outputs": [
    {
     "data": {
      "text/plain": [
       "{'launch_date': {12, 23, 28},\n",
       " 'class_time': {'web depelopment': 8, 'data science': 9, 'DSA with c++': 10},\n",
       " 'mentor': ['raushan', 'aditya', 'aman', 'hritik']}"
      ]
     },
     "execution_count": 17,
     "metadata": {},
     "output_type": "execute_result"
    }
   ],
   "source": [
    "d6"
   ]
  },
  {
   "cell_type": "code",
   "execution_count": 18,
   "id": "236926a9-6f7a-4f25-bb42-ae8afaf77d50",
   "metadata": {},
   "outputs": [
    {
     "ename": "TypeError",
     "evalue": "pop expected at least 1 argument, got 0",
     "output_type": "error",
     "traceback": [
      "\u001b[0;31m---------------------------------------------------------------------------\u001b[0m",
      "\u001b[0;31mTypeError\u001b[0m                                 Traceback (most recent call last)",
      "Cell \u001b[0;32mIn[18], line 1\u001b[0m\n\u001b[0;32m----> 1\u001b[0m \u001b[43md6\u001b[49m\u001b[38;5;241;43m.\u001b[39;49m\u001b[43mpop\u001b[49m\u001b[43m(\u001b[49m\u001b[43m)\u001b[49m\n",
      "\u001b[0;31mTypeError\u001b[0m: pop expected at least 1 argument, got 0"
     ]
    }
   ],
   "source": [
    "d6.pop()"
   ]
  },
  {
   "cell_type": "code",
   "execution_count": 3,
   "id": "7639f53a-1b09-4dae-9122-678c9f46f363",
   "metadata": {},
   "outputs": [
    {
     "name": "stdout",
     "output_type": "stream",
     "text": [
      "you will be part of A3 batch\n"
     ]
    }
   ],
   "source": [
    " marks = -45\n",
    "if marks >= 80 :\n",
    "    print(\"you will be part of A0 batch\")\n",
    "elif marks >= 60 and marks < 80 :\n",
    "    print(\"you will be part of A1 batch\")\n",
    "elif marks >= 40 and marks < 60 :\n",
    "    print(\"you will be part of A2 batch\")\n",
    "else : \n",
    "    print(\"you will be part of A3 batch\")"
   ]
  },
  {
   "cell_type": "code",
   "execution_count": 1,
   "id": "122de563-24d5-468d-8877-d2de6d3db8e3",
   "metadata": {},
   "outputs": [
    {
     "name": "stdin",
     "output_type": "stream",
     "text": [
      "enter your marks 56\n"
     ]
    }
   ],
   "source": [
    "marks = input (\"enter your marks\")"
   ]
  },
  {
   "cell_type": "code",
   "execution_count": 2,
   "id": "94e5e8c5-2452-44c3-af9f-5efc3aa5a398",
   "metadata": {},
   "outputs": [
    {
     "data": {
      "text/plain": [
       "'56'"
      ]
     },
     "execution_count": 2,
     "metadata": {},
     "output_type": "execute_result"
    }
   ],
   "source": [
    "marks"
   ]
  },
  {
   "cell_type": "code",
   "execution_count": 3,
   "id": "445187be-e7c1-4d50-b5eb-61fef9c4de77",
   "metadata": {},
   "outputs": [
    {
     "data": {
      "text/plain": [
       "str"
      ]
     },
     "execution_count": 3,
     "metadata": {},
     "output_type": "execute_result"
    }
   ],
   "source": [
    "type(marks)"
   ]
  },
  {
   "cell_type": "code",
   "execution_count": 4,
   "id": "7f635d08-762d-40cc-a537-f4052a463950",
   "metadata": {},
   "outputs": [
    {
     "name": "stdin",
     "output_type": "stream",
     "text": [
      "enter your marks 67\n"
     ]
    }
   ],
   "source": [
    "marks = int(input (\"enter your marks\"))"
   ]
  },
  {
   "cell_type": "code",
   "execution_count": 5,
   "id": "cfe3b955-023b-478b-b49e-91d8de5b5e69",
   "metadata": {},
   "outputs": [
    {
     "data": {
      "text/plain": [
       "int"
      ]
     },
     "execution_count": 5,
     "metadata": {},
     "output_type": "execute_result"
    }
   ],
   "source": [
    "type(marks)"
   ]
  },
  {
   "cell_type": "code",
   "execution_count": 6,
   "id": "f9662a52-37e5-42c4-9258-12013cec321b",
   "metadata": {},
   "outputs": [
    {
     "name": "stdin",
     "output_type": "stream",
     "text": [
      "enter your marks 10\n"
     ]
    },
    {
     "name": "stdout",
     "output_type": "stream",
     "text": [
      "you will be part of A3 batch\n"
     ]
    }
   ],
   "source": [
    "marks = int(input (\"enter your marks\"))\n",
    "if marks >= 80 :\n",
    "    print(\"you will be part of A0 batch\")\n",
    "elif marks >= 60 and marks < 80 :\n",
    "    print(\"you will be part of A1 batch\")\n",
    "elif marks >= 40 and marks < 60 :\n",
    "    print(\"you will be part of A2 batch\")\n",
    "else : \n",
    "    print(\"you will be part of A3 batch\")"
   ]
  },
  {
   "cell_type": "code",
   "execution_count": 3,
   "id": "7e2463b2-ef32-409b-89ca-c520ec284775",
   "metadata": {},
   "outputs": [
    {
     "name": "stdin",
     "output_type": "stream",
     "text": [
      "enter price 200\n"
     ]
    }
   ],
   "source": [
    "price = int(input(\"enter price\"))\n",
    "if price > 1000:\n",
    "    print(\"i will not purchase\")"
   ]
  },
  {
   "cell_type": "code",
   "execution_count": 4,
   "id": "7839f35d-a67a-4a96-a2dc-41c9d89b3eee",
   "metadata": {},
   "outputs": [
    {
     "name": "stdin",
     "output_type": "stream",
     "text": [
      "enter price 7000\n"
     ]
    },
    {
     "name": "stdout",
     "output_type": "stream",
     "text": [
      "i will not purchase\n"
     ]
    }
   ],
   "source": [
    "price = int(input(\"enter price\"))\n",
    "if price > 1000:\n",
    "    print(\"i will not purchase\")"
   ]
  },
  {
   "cell_type": "code",
   "execution_count": 6,
   "id": "0b0f691f-908c-4da5-8028-14d07d93ede4",
   "metadata": {},
   "outputs": [
    {
     "name": "stdin",
     "output_type": "stream",
     "text": [
      "enter price 6000\n"
     ]
    },
    {
     "name": "stdout",
     "output_type": "stream",
     "text": [
      "i will not purchase\n",
      "this is too much\n"
     ]
    }
   ],
   "source": [
    "price = int(input(\"enter price\"))\n",
    "if price > 1000:\n",
    "    print(\"i will not purchase\")\n",
    "if price > 5000:\n",
    "    print(\"this is too much\")\n",
    "    "
   ]
  },
  {
   "cell_type": "code",
   "execution_count": 7,
   "id": "b0e947bc-cb5e-4b2e-a391-89bad174bca2",
   "metadata": {},
   "outputs": [
    {
     "name": "stdin",
     "output_type": "stream",
     "text": [
      "enter price 1500\n"
     ]
    },
    {
     "name": "stdout",
     "output_type": "stream",
     "text": [
      "i will not purchase\n",
      "its ok\n"
     ]
    }
   ],
   "source": [
    "price = int(input(\"enter price\"))\n",
    "if price > 1000:\n",
    "    print(\"i will not purchase\")\n",
    "if price > 5000:\n",
    "    print(\"this is too much\")\n",
    "elif price < 2000 :\n",
    "    print(\"its ok\")"
   ]
  },
  {
   "cell_type": "code",
   "execution_count": 8,
   "id": "d5afa166-b198-4b01-a420-aadd63fdf63e",
   "metadata": {},
   "outputs": [],
   "source": [
    "l = [ 1,2,3,4,5,6,7,8]"
   ]
  },
  {
   "cell_type": "code",
   "execution_count": 9,
   "id": "c49d7af0-5376-426f-b2c8-1f59fbc76ac6",
   "metadata": {},
   "outputs": [
    {
     "data": {
      "text/plain": [
       "2"
      ]
     },
     "execution_count": 9,
     "metadata": {},
     "output_type": "execute_result"
    }
   ],
   "source": [
    "l[0] +1"
   ]
  },
  {
   "cell_type": "code",
   "execution_count": 10,
   "id": "831129bf-d487-493b-9b54-d9ac7d55a467",
   "metadata": {},
   "outputs": [],
   "source": [
    "l1 = []"
   ]
  },
  {
   "cell_type": "code",
   "execution_count": 11,
   "id": "07575908-d235-4099-be19-0d68d58e8efc",
   "metadata": {},
   "outputs": [],
   "source": [
    "l1.append(l[0] +1)"
   ]
  },
  {
   "cell_type": "code",
   "execution_count": 12,
   "id": "54c04ab4-da98-4ca3-ad15-20f294c593b4",
   "metadata": {},
   "outputs": [
    {
     "data": {
      "text/plain": [
       "[2]"
      ]
     },
     "execution_count": 12,
     "metadata": {},
     "output_type": "execute_result"
    }
   ],
   "source": [
    "l1"
   ]
  },
  {
   "cell_type": "code",
   "execution_count": 27,
   "id": "47e3ec08-66fe-4519-bd84-eaf912a67ab8",
   "metadata": {},
   "outputs": [],
   "source": [
    "l = [ 1,2,3,4,5,6,7,8]"
   ]
  },
  {
   "cell_type": "code",
   "execution_count": 28,
   "id": "f38968c0-137d-405a-8d11-7bcd9e9b364b",
   "metadata": {},
   "outputs": [
    {
     "name": "stdout",
     "output_type": "stream",
     "text": [
      "1\n",
      "2\n",
      "3\n",
      "4\n",
      "5\n",
      "6\n",
      "7\n",
      "8\n"
     ]
    }
   ],
   "source": [
    "for i in l :\n",
    "    print(i)"
   ]
  },
  {
   "cell_type": "code",
   "execution_count": 29,
   "id": "4c577cdc-f2f8-4885-bf44-efb94463c63a",
   "metadata": {},
   "outputs": [
    {
     "name": "stdout",
     "output_type": "stream",
     "text": [
      "2\n",
      "3\n",
      "4\n",
      "5\n",
      "6\n",
      "7\n",
      "8\n",
      "9\n"
     ]
    }
   ],
   "source": [
    "for i in l :\n",
    "    print(i+1)"
   ]
  },
  {
   "cell_type": "code",
   "execution_count": 30,
   "id": "0e337842-59be-4f87-865f-c50fcaee08bd",
   "metadata": {},
   "outputs": [
    {
     "name": "stdout",
     "output_type": "stream",
     "text": [
      "2\n",
      "3\n",
      "4\n",
      "5\n",
      "6\n",
      "7\n",
      "8\n",
      "9\n"
     ]
    },
    {
     "data": {
      "text/plain": [
       "[2, 3, 4, 5, 6, 7, 8, 9]"
      ]
     },
     "execution_count": 30,
     "metadata": {},
     "output_type": "execute_result"
    }
   ],
   "source": [
    "l1 = []\n",
    "for i in l :\n",
    "    print(i+1)\n",
    "    l1.append(i+1)\n",
    "l1"
   ]
  },
  {
   "cell_type": "code",
   "execution_count": 34,
   "id": "dd4db443-8eca-4f5c-980e-5d7e17f71080",
   "metadata": {},
   "outputs": [],
   "source": [
    "l = [ \"aditya\" ,  \"kumar\" ,\"pwskills\", \"coarse\"]"
   ]
  },
  {
   "cell_type": "code",
   "execution_count": 35,
   "id": "831c8e3f-4693-42e2-91c1-51a0625ec5f8",
   "metadata": {},
   "outputs": [
    {
     "name": "stdout",
     "output_type": "stream",
     "text": [
      "aditya\n",
      "kumar\n",
      "pwskills\n",
      "coarse\n"
     ]
    },
    {
     "data": {
      "text/plain": [
       "['ADITYA', 'KUMAR', 'PWSKILLS', 'COARSE']"
      ]
     },
     "execution_count": 35,
     "metadata": {},
     "output_type": "execute_result"
    }
   ],
   "source": [
    "l1 = []\n",
    "for i in l :\n",
    "    print(i)\n",
    "    l1.append(i.upper())\n",
    "l1"
   ]
  },
  {
   "cell_type": "code",
   "execution_count": 45,
   "id": "a542ec06-d3b8-4133-b068-0742a75945dd",
   "metadata": {},
   "outputs": [],
   "source": [
    "l = [ 1,2,3,4,4,\"aditya\" ,\"kumar\", 324 , 23.45 , \"abc\"]"
   ]
  },
  {
   "cell_type": "code",
   "execution_count": 48,
   "id": "05be8489-ef1c-4cb2-8ba4-b8f4351dac0b",
   "metadata": {},
   "outputs": [],
   "source": [
    "l1_num = []\n",
    "l2_str = []\n",
    "for i in l : \n",
    "    if type(i) == int or type(i) == float :\n",
    "        l1_num.append(i)\n",
    "    else : \n",
    "            l2_str.append(i)"
   ]
  },
  {
   "cell_type": "code",
   "execution_count": 49,
   "id": "f3ecb8ba-85e3-45b7-ab2d-f382e4079621",
   "metadata": {},
   "outputs": [
    {
     "data": {
      "text/plain": [
       "[1, 2, 3, 4, 4, 324, 23.45]"
      ]
     },
     "execution_count": 49,
     "metadata": {},
     "output_type": "execute_result"
    }
   ],
   "source": [
    "l1_num"
   ]
  },
  {
   "cell_type": "code",
   "execution_count": 50,
   "id": "908181e7-437d-4b66-9656-eb7c0356f640",
   "metadata": {},
   "outputs": [
    {
     "data": {
      "text/plain": [
       "['aditya', 'kumar', 'abc']"
      ]
     },
     "execution_count": 50,
     "metadata": {},
     "output_type": "execute_result"
    }
   ],
   "source": [
    "l2_str"
   ]
  }
 ],
 "metadata": {
  "kernelspec": {
   "display_name": "Python 3 (ipykernel)",
   "language": "python",
   "name": "python3"
  },
  "language_info": {
   "codemirror_mode": {
    "name": "ipython",
    "version": 3
   },
   "file_extension": ".py",
   "mimetype": "text/x-python",
   "name": "python",
   "nbconvert_exporter": "python",
   "pygments_lexer": "ipython3",
   "version": "3.10.8"
  }
 },
 "nbformat": 4,
 "nbformat_minor": 5
}
